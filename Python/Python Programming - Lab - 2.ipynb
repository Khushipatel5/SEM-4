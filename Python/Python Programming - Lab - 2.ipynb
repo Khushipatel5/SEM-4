{
 "cells": [
  {
   "cell_type": "markdown",
   "metadata": {},
   "source": [
    "\n",
    "<a href='https://www.darshan.ac.in/'> <img src='https://www.darshan.ac.in/Content/media/DU_Logo.svg' width=\"250\" height=\"300\"/></a>\n",
    "<pre>\n",
    "<center><b><h1>Python Programming - 2301CS404</b></center>\n",
    "<center><b><h1>Lab - 2</b></center>  \n",
    "<center><b><h1> 2301010202 || KHUSHI PATEL || 06-12-2024 </b></center>  \n",
    "<pre>"
   ]
  },
  {
   "cell_type": "markdown",
   "metadata": {
    "jupyter": {
     "source_hidden": true
    }
   },
   "source": [
    "# if..else.."
   ]
  },
  {
   "cell_type": "markdown",
   "metadata": {},
   "source": [
    "### 01) WAP to check whether the given number is positive or negative."
   ]
  },
  {
   "cell_type": "code",
   "execution_count": 5,
   "metadata": {},
   "outputs": [
    {
     "name": "stdin",
     "output_type": "stream",
     "text": [
      "enter a -2\n"
     ]
    },
    {
     "name": "stdout",
     "output_type": "stream",
     "text": [
      "number is negative\n"
     ]
    }
   ],
   "source": [
    "a=int(input(\"enter a\"));\n",
    "\n",
    "# if(a>0):\n",
    "#     print(\"number is positive\");\n",
    "# else:\n",
    "#     print(\"number is negative\");\n",
    "\n",
    "print(\"number is positive\") if(a>0) else print(\"number is negative\");"
   ]
  },
  {
   "cell_type": "markdown",
   "metadata": {},
   "source": [
    "### 02) WAP to check whether the given number is odd or even."
   ]
  },
  {
   "cell_type": "code",
   "execution_count": 8,
   "metadata": {},
   "outputs": [
    {
     "name": "stdin",
     "output_type": "stream",
     "text": [
      "enter number 5\n"
     ]
    },
    {
     "name": "stdout",
     "output_type": "stream",
     "text": [
      "number is odd\n"
     ]
    }
   ],
   "source": [
    "a=int(input(\"enter number\"));\n",
    "print(\"number is even\") if(a%2==0) else print(\"number is odd\");"
   ]
  },
  {
   "cell_type": "markdown",
   "metadata": {},
   "source": [
    "### 03) WAP to find out largest number from given two numbers using simple if and ternary operator."
   ]
  },
  {
   "cell_type": "code",
   "execution_count": 11,
   "metadata": {},
   "outputs": [
    {
     "name": "stdin",
     "output_type": "stream",
     "text": [
      "enter a 10\n",
      "enter b 4\n"
     ]
    },
    {
     "name": "stdout",
     "output_type": "stream",
     "text": [
      "10\n",
      "10\n"
     ]
    }
   ],
   "source": [
    "a=int(input(\"enter a\"));\n",
    "b=int(input(\"enter b\"));\n",
    "\n",
    "# simple if\n",
    "if(a>b):\n",
    "    print(a);\n",
    "else: \n",
    "    print(b);\n",
    "\n",
    "# ternary\n",
    "print(a) if(a>b) else print(b);"
   ]
  },
  {
   "cell_type": "markdown",
   "metadata": {},
   "source": [
    "### 04) WAP to find out largest number from given three numbers."
   ]
  },
  {
   "cell_type": "code",
   "execution_count": 14,
   "metadata": {},
   "outputs": [
    {
     "name": "stdin",
     "output_type": "stream",
     "text": [
      "enter a 10\n",
      "enter b 50\n",
      "enter c 23\n"
     ]
    },
    {
     "name": "stdout",
     "output_type": "stream",
     "text": [
      "50\n"
     ]
    }
   ],
   "source": [
    "a=int(input(\"enter a\"));\n",
    "b=int(input(\"enter b\"));\n",
    "c=int(input(\"enter c\"));\n",
    "# if(a>b):\n",
    "#     if(a>c):\n",
    "#     print(\"a\");\n",
    "#     else:\n",
    "#     print(\"c\");\n",
    "# else:\n",
    "#     if(b>c):\n",
    "#         print(\"b\");\n",
    "#     else:\n",
    "#         print(\"c\");\n",
    "    \n",
    "print(a) if(a>c) else print(c) if(a>b) else print(b) if(b>c) else print(c)"
   ]
  },
  {
   "cell_type": "markdown",
   "metadata": {},
   "source": [
    "### 05) WAP to check whether the given year is leap year or not.\n",
    "[If a year can be divisible by 4 but not divisible by 100 then it is leap year but if it is divisible by 400 then it is leap year]"
   ]
  },
  {
   "cell_type": "code",
   "execution_count": 18,
   "metadata": {},
   "outputs": [
    {
     "name": "stdin",
     "output_type": "stream",
     "text": [
      "enter the year 2029\n"
     ]
    },
    {
     "name": "stdout",
     "output_type": "stream",
     "text": [
      "it is not a leap year\n"
     ]
    }
   ],
   "source": [
    "year= int(input(\"enter the year\"));\n",
    "\n",
    "if((year%4==0 and year%100!=0) or year%400==0):\n",
    "    print(\"it is a leap year\");\n",
    "else:\n",
    "    print(\"it is not a leap year\");"
   ]
  },
  {
   "cell_type": "markdown",
   "metadata": {},
   "source": [
    "### 06) WAP in python to display the name of the day according to the number given by the user."
   ]
  },
  {
   "cell_type": "code",
   "execution_count": 20,
   "metadata": {},
   "outputs": [
    {
     "name": "stdin",
     "output_type": "stream",
     "text": [
      "enter number 5\n"
     ]
    },
    {
     "name": "stdout",
     "output_type": "stream",
     "text": [
      "friday\n"
     ]
    }
   ],
   "source": [
    "num=int(input(\"enter number\"));\n",
    "match(num):\n",
    "    case 0:\n",
    "        print(\"sunday\");\n",
    "    case 1:\n",
    "        print(\"monday\");\n",
    "    case 2:\n",
    "        print(\"tuesday\");\n",
    "    case 3:\n",
    "        print(\"wednesday\");\n",
    "    case 4:\n",
    "        print(\"thursday\");\n",
    "    case 5:\n",
    "        print(\"friday\");\n",
    "    case 6:\n",
    "        print(\"saturday\");\n",
    "    case _:\n",
    "        print(\"enter vaid number from 0 to 6\");"
   ]
  },
  {
   "cell_type": "markdown",
   "metadata": {},
   "source": [
    "### 07) WAP to implement simple calculator which performs (add,sub,mul,div) of two no. based on user input."
   ]
  },
  {
   "cell_type": "code",
   "execution_count": 24,
   "metadata": {},
   "outputs": [
    {
     "name": "stdin",
     "output_type": "stream",
     "text": [
      "enter a 5\n",
      "enter operator +\n",
      "enter b 6\n"
     ]
    },
    {
     "name": "stdout",
     "output_type": "stream",
     "text": [
      "11\n"
     ]
    }
   ],
   "source": [
    "a=int(input(\"enter a\"));\n",
    "c=input(\"enter operator\");\n",
    "b=int(input(\"enter b\"));\n",
    "\n",
    "match(c):\n",
    "    case \"+\":\n",
    "        print(a+b);\n",
    "    case \"-\":\n",
    "        print(a-b);\n",
    "    case \"%\":\n",
    "        print(a%b);\n",
    "    case '/':\n",
    "        print(a/b);\n",
    "    case '*':\n",
    "        print(a*b);\n",
    "    case _:\n",
    "        print(\"invalid\");"
   ]
  },
  {
   "cell_type": "markdown",
   "metadata": {},
   "source": [
    "### 08) WAP to read marks of five subjects. Calculate percentage and print class accordingly. \n",
    "Fail below 35 </br>\n",
    "Pass Class between 35 to 45 </br>\n",
    "Second Class</br>\n",
    "between 45 to 60</br>\n",
    "First Class between 60 to 70</br> \n",
    "Distinction if more than 70"
   ]
  },
  {
   "cell_type": "code",
   "execution_count": 26,
   "metadata": {},
   "outputs": [
    {
     "name": "stdin",
     "output_type": "stream",
     "text": [
      "enter a 45\n",
      "enter b 56\n",
      "enter c 65\n",
      "enter d 26\n",
      "enter e 56\n"
     ]
    },
    {
     "name": "stdout",
     "output_type": "stream",
     "text": [
      "Second class\n"
     ]
    }
   ],
   "source": [
    "a=int(input(\"enter a\"));\n",
    "b=int(input(\"enter b\"));\n",
    "c=int(input(\"enter c\"));\n",
    "d=int(input(\"enter d\"));\n",
    "e=int(input(\"enter e\"));\n",
    "sum=((a+b+c+d+e)*100)/500;\n",
    "if(sum>70):\n",
    "     print(\"Distinction\");\n",
    "elif(sum<70 and sum>60):\n",
    "    print(\"First class\");\n",
    "elif(sum<60 and sum>45):\n",
    "    print(\"Second class\");\n",
    "elif(sum<45 and sum>35):\n",
    "    print(\"pass\");\n",
    "else:\n",
    "    print(\"fail\");"
   ]
  },
  {
   "cell_type": "markdown",
   "metadata": {},
   "source": [
    "### 09) Three sides of a triangle are entered through the keyboard, WAP to check whether the triangle is isosceles, equilateral, scalene or right-angled triangle."
   ]
  },
  {
   "cell_type": "code",
   "execution_count": 42,
   "metadata": {},
   "outputs": [
    {
     "name": "stdin",
     "output_type": "stream",
     "text": [
      "enter a 3\n",
      "enter b 4\n",
      "enter c 5\n"
     ]
    },
    {
     "name": "stdout",
     "output_type": "stream",
     "text": [
      "Scalene triangle\n",
      "Right angled triangle\n"
     ]
    }
   ],
   "source": [
    "a=int(input(\"enter a\"));\n",
    "b=int(input(\"enter b\"));\n",
    "c=int(input(\"enter c\"));\n",
    "\n",
    "if(a==b and b==c and c==a):\n",
    "    print(\"Equilateral triangle\");\n",
    "elif((a==b and a!=c) or (b!=c and a==c) or(a!=b and b==c)):\n",
    "    print(\"Isoceles triangle\");\n",
    "else:\n",
    "    print(\"Scalene triangle\");\n",
    "if((a**2+b**2==c**2) or (a**2==b**2+c**2) or a**2+c**2==b**2):\n",
    "    print(\"Right angled triangle\");\n"
   ]
  },
  {
   "cell_type": "code",
   "execution_count": null,
   "metadata": {},
   "outputs": [],
   "source": []
  },
  {
   "cell_type": "markdown",
   "metadata": {},
   "source": [
    "### 10) WAP to find the second largest number among three user input numbers."
   ]
  },
  {
   "cell_type": "code",
   "execution_count": 58,
   "metadata": {},
   "outputs": [
    {
     "name": "stdin",
     "output_type": "stream",
     "text": [
      "enter a 1\n",
      "enter b 2\n",
      "enter c 3\n"
     ]
    },
    {
     "name": "stdout",
     "output_type": "stream",
     "text": [
      "2\n"
     ]
    }
   ],
   "source": [
    "a=int(input(\"enter a\"));\n",
    "b=int(input(\"enter b\"));\n",
    "c=int(input(\"enter c\"));\n",
    "# if(a>b):\n",
    "#     if(a<c):\n",
    "#         print(a);\n",
    "#     else:\n",
    "#         print(c);\n",
    "# elif(b<c and):\n",
    "    \n",
    "# else:\n",
    "#     print(c);\n",
    "if((a<c and a>b) or (a<b and a>c)):\n",
    "    print(a);\n",
    "elif((c<a and c>b) or (c<b and c>a)):\n",
    "    print(c);\n",
    "else:\n",
    "    print(b);"
   ]
  },
  {
   "cell_type": "markdown",
   "metadata": {},
   "source": [
    "### 11) WAP to calculate electricity bill based on following criteria. Which takes the unit from the user.\n",
    "a. First 1 to 50 units – Rs. 2.60/unit</br>\n",
    "b. Next 50 to 100 units – Rs. 3.25/unit</br>\n",
    "c. Next 100 to 200 units – Rs. 5.26/unit</br>\n",
    "d. above 200 units – Rs. 8.45/unit"
   ]
  },
  {
   "cell_type": "code",
   "execution_count": 5,
   "metadata": {},
   "outputs": [
    {
     "name": "stdin",
     "output_type": "stream",
     "text": [
      "Enter the number of units consumed:  156\n"
     ]
    },
    {
     "name": "stdout",
     "output_type": "stream",
     "text": [
      "The electricity price for 156.0 units is: Rs. 587.06\n"
     ]
    }
   ],
   "source": [
    "units = float(input(\"Enter the number of units consumed: \"))\n",
    "price = 0\n",
    "\n",
    "if units <= 50:\n",
    "    price = units * 2.60\n",
    "elif units <= 100:\n",
    "    price = (50 * 2.60) + ((units - 50) * 3.25)\n",
    "elif units <= 200:\n",
    "    price = (50 * 2.60) + (50 * 3.25) + ((units - 100) * 5.26)\n",
    "else:\n",
    "    price = (50 * 2.60) + (50 * 3.25) + (100 * 5.26) + ((units - 200) * 8.45)\n",
    "\n",
    "print(f\"The electricity price for {units} units is: Rs. {price:.2f}\")\n"
   ]
  }
 ],
 "metadata": {
  "kernelspec": {
   "display_name": "Python 3 (ipykernel)",
   "language": "python",
   "name": "python3"
  },
  "language_info": {
   "codemirror_mode": {
    "name": "ipython",
    "version": 3
   },
   "file_extension": ".py",
   "mimetype": "text/x-python",
   "name": "python",
   "nbconvert_exporter": "python",
   "pygments_lexer": "ipython3",
   "version": "3.12.7"
  }
 },
 "nbformat": 4,
 "nbformat_minor": 4
}
