{
 "cells": [
  {
   "attachments": {},
   "cell_type": "markdown",
   "metadata": {},
   "source": [
    "<a href='https://www.darshan.ac.in/'> <img src='https://www.darshan.ac.in/Content/media/DU_Logo.svg' width=\"250\" height=\"300\"/></a>\n",
    "<pre>\n",
    "<center><b><h1>Python Programming - 2301CS404</b></center>\n",
    "    <center><b><h1>Khushi patel | 23010101202 | 3-1-25</b></center> \n",
    "<center><b><h1>Lab - 6</b></center>    \n",
    "<pre>"
   ]
  },
  {
   "cell_type": "markdown",
   "metadata": {},
   "source": [
    "# Tuple"
   ]
  },
  {
   "cell_type": "markdown",
   "metadata": {},
   "source": [
    "### 01) WAP to find sum of tuple elements."
   ]
  },
  {
   "cell_type": "code",
   "execution_count": 138,
   "metadata": {},
   "outputs": [
    {
     "name": "stdout",
     "output_type": "stream",
     "text": [
      "544\n"
     ]
    }
   ],
   "source": [
    "a=(10,20,30,401,5,23,6,1,46,2,)\n",
    "sum=0\n",
    "for i in a:\n",
    "    sum=sum+i\n",
    "print(sum)"
   ]
  },
  {
   "cell_type": "markdown",
   "metadata": {},
   "source": [
    "### 02) WAP to find Maximum and Minimum K elements in a given tuple."
   ]
  },
  {
   "cell_type": "code",
   "execution_count": 144,
   "metadata": {},
   "outputs": [
    {
     "name": "stdin",
     "output_type": "stream",
     "text": [
      "enter the kth value 3\n"
     ]
    },
    {
     "name": "stdout",
     "output_type": "stream",
     "text": [
      "min : [0, 1, 2]\n",
      "max: [56, 54, 32]\n"
     ]
    }
   ],
   "source": [
    "a=(1,5,2,3.5,6,9.5,8,4,8,15,26,32,54,0,2,56,14)\n",
    "k=int(input(\"enter the kth value\"))\n",
    "count=0\n",
    "a=sorted(a)\n",
    "print( 'min :',a[0:k])\n",
    "print('max:', a[:-1+(-k):-1])"
   ]
  },
  {
   "cell_type": "markdown",
   "metadata": {},
   "source": [
    "### 03) WAP to find tuples which have all elements divisible by K from a list of tuples."
   ]
  },
  {
   "cell_type": "code",
   "execution_count": 23,
   "metadata": {},
   "outputs": [
    {
     "name": "stdin",
     "output_type": "stream",
     "text": [
      "enter k 2\n"
     ]
    },
    {
     "name": "stdout",
     "output_type": "stream",
     "text": [
      "(8, 0, 8)\n"
     ]
    }
   ],
   "source": [
    "a=[(1,2,3),(8,0,8),(2,4,6,8,1)]\n",
    "k=int(input(\"enter k\"))\n",
    "for i in a :\n",
    "    flag=True\n",
    "    for j in i :\n",
    "        if(j%k!=0):\n",
    "            flag=False\n",
    "            break;\n",
    "    if(flag==True):\n",
    "        print(i)"
   ]
  },
  {
   "cell_type": "markdown",
   "metadata": {},
   "source": [
    "### 04) WAP to create a list of tuples from given list having number and its cube in each tuple."
   ]
  },
  {
   "cell_type": "code",
   "execution_count": 134,
   "metadata": {},
   "outputs": [
    {
     "name": "stdout",
     "output_type": "stream",
     "text": [
      "[(1, 1), (5, 25), (6, 36), (3, 9), (2, 4), (4, 16)]\n"
     ]
    }
   ],
   "source": [
    "a=[1,5,6,3,2,4]\n",
    "t=[(i,i**2) for i in a]\n",
    "print(t)"
   ]
  },
  {
   "cell_type": "markdown",
   "metadata": {},
   "source": [
    "### 05) WAP to find tuples with all positive elements from the given list of tuples."
   ]
  },
  {
   "cell_type": "code",
   "execution_count": 106,
   "metadata": {},
   "outputs": [
    {
     "name": "stdout",
     "output_type": "stream",
     "text": [
      "(8, 0, 8)\n",
      "(1, 4, 56)\n"
     ]
    }
   ],
   "source": [
    "a=[(1,2,-3),(8,0,8),(2,4,-6,8,1),(1,4,56,)]\n",
    "for i in a :\n",
    "    flag=True\n",
    "    for j in i :\n",
    "        if(j<0):\n",
    "            flag=False\n",
    "            break;\n",
    "    if(flag==True):\n",
    "        print(i)"
   ]
  },
  {
   "cell_type": "markdown",
   "metadata": {},
   "source": [
    "### 06) WAP to add tuple to list and vice – versa."
   ]
  },
  {
   "cell_type": "code",
   "execution_count": 145,
   "metadata": {},
   "outputs": [
    {
     "name": "stdout",
     "output_type": "stream",
     "text": [
      "tuple to list add\n",
      "[1, 2, 3, (1, 2, 3)]\n",
      "list to tuple add\n",
      "(1, 2, 3, [1, 2, 3])\n"
     ]
    }
   ],
   "source": [
    "a=[1,2,3]\n",
    "b=(1,2,3)\n",
    "c=[1,2,3]\n",
    "d=(1,2,3)\n",
    "print(\"tuple to list add\")\n",
    "a.append(b)\n",
    "print(a)\n",
    "print(\"list to tuple add\")\n",
    "d=d+(c,)\n",
    "print(d)"
   ]
  },
  {
   "cell_type": "markdown",
   "metadata": {},
   "source": [
    "### 07) WAP to remove tuples of length K."
   ]
  },
  {
   "cell_type": "code",
   "execution_count": 143,
   "metadata": {},
   "outputs": [
    {
     "name": "stdin",
     "output_type": "stream",
     "text": [
      "enter k 4\n"
     ]
    },
    {
     "name": "stdout",
     "output_type": "stream",
     "text": [
      "[(1, 2, 3), (8, 0, 9), (5, 9, 6, 8, 4)]\n"
     ]
    }
   ],
   "source": [
    "a=[(1,2,3),(8,0,9),(2,3,5,5),(5,1,2,6),(5,9,6,8,4)]\n",
    "k=int(input(\"enter k\"))\n",
    "a = [i for i in a if len(i) != k]\n",
    "print(a)"
   ]
  },
  {
   "cell_type": "markdown",
   "metadata": {},
   "source": [
    "### 08) WAP to remove duplicates from tuple."
   ]
  },
  {
   "cell_type": "code",
   "execution_count": 146,
   "metadata": {},
   "outputs": [
    {
     "name": "stdout",
     "output_type": "stream",
     "text": [
      "[1, 2, 3, 5, 6, 9, 15, 8, 4]\n"
     ]
    }
   ],
   "source": [
    "a=(1,5,2,3,5,6,9,15,8,4)\n",
    "temp=list(a)\n",
    "i=0\n",
    "while(i<len(temp)):\n",
    "    if(temp[i] in temp[i+1:]):\n",
    "       temp.remove(temp[i])\n",
    "    else:\n",
    "        i=i+1\n",
    "print(temp)"
   ]
  },
  {
   "cell_type": "markdown",
   "metadata": {},
   "source": [
    "### 09) WAP to multiply adjacent elements of a tuple and print that resultant tuple."
   ]
  },
  {
   "cell_type": "code",
   "execution_count": 75,
   "metadata": {},
   "outputs": [
    {
     "name": "stdout",
     "output_type": "stream",
     "text": [
      "(5, 10, 6, 15, 30, 54, 135, 120, 32)\n"
     ]
    }
   ],
   "source": [
    "a=(1,5,2,3,5,6,9,15,8,4)\n",
    "result=()\n",
    "for i in range(len(a)-1):  \n",
    "    result += (a[i] * a[i+1],) \n",
    "print(result)"
   ]
  },
  {
   "cell_type": "markdown",
   "metadata": {},
   "source": [
    "### 10) WAP to test if the given tuple is distinct or not."
   ]
  },
  {
   "cell_type": "code",
   "execution_count": 161,
   "metadata": {},
   "outputs": [
    {
     "name": "stdout",
     "output_type": "stream",
     "text": [
      "distinct\n"
     ]
    }
   ],
   "source": [
    "a=(1,5,2,3,5,6,9,15,8,4)\n",
    "# a=(1,23,4,56,7,89,)\n",
    "flag=True\n",
    "for i in a:\n",
    "    if(a.count(i)!=1):\n",
    "        flag=False\n",
    "if flag==True:\n",
    "    print('distinct')\n",
    "else:\n",
    "    print('not distint')"
   ]
  },
  {
   "cell_type": "code",
   "execution_count": null,
   "metadata": {},
   "outputs": [],
   "source": []
  }
 ],
 "metadata": {
  "kernelspec": {
   "display_name": "Python 3 (ipykernel)",
   "language": "python",
   "name": "python3"
  },
  "language_info": {
   "codemirror_mode": {
    "name": "ipython",
    "version": 3
   },
   "file_extension": ".py",
   "mimetype": "text/x-python",
   "name": "python",
   "nbconvert_exporter": "python",
   "pygments_lexer": "ipython3",
   "version": "3.12.7"
  }
 },
 "nbformat": 4,
 "nbformat_minor": 4
}
