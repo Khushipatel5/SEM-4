{
 "cells": [
  {
   "cell_type": "markdown",
   "metadata": {},
   "source": [
    "\n",
    "<a href='https://www.darshan.ac.in/'> <img src='https://www.darshan.ac.in/Content/media/DU_Logo.svg' width=\"250\" height=\"300\"/></a>\n",
    "<pre>\n",
    "<center><b><h1>Python Programming - 2301CS404</b></center>\n",
    "    <center><b><h1>Khushi Patel || 23010101202 || 20-12-24</b></center>    \n",
    "<center><b><h1>Lab - 4</b></center>    \n",
    "<pre>"
   ]
  },
  {
   "cell_type": "markdown",
   "metadata": {},
   "source": [
    "# String"
   ]
  },
  {
   "cell_type": "markdown",
   "metadata": {},
   "source": [
    "### 01) WAP to check whether the given string is palindrome or not."
   ]
  },
  {
   "cell_type": "code",
   "execution_count": 8,
   "metadata": {},
   "outputs": [
    {
     "name": "stdin",
     "output_type": "stream",
     "text": [
      "enter the string abcba\n"
     ]
    },
    {
     "name": "stdout",
     "output_type": "stream",
     "text": [
      "palindrome\n"
     ]
    }
   ],
   "source": [
    "s=input(\"enter the string\")\n",
    "\n",
    "if(s==(s[::-1])):\n",
    "    print(\"palindrome\")\n",
    "else:\n",
    "    print(\"not palindrome\")"
   ]
  },
  {
   "cell_type": "markdown",
   "metadata": {},
   "source": [
    "### 02) WAP to reverse the words in the given string."
   ]
  },
  {
   "cell_type": "code",
   "execution_count": 9,
   "metadata": {},
   "outputs": [
    {
     "name": "stdin",
     "output_type": "stream",
     "text": [
      "enter the string khushi\n"
     ]
    },
    {
     "name": "stdout",
     "output_type": "stream",
     "text": [
      "ihsuhk\n"
     ]
    }
   ],
   "source": [
    "s=input(\"enter the string\")\n",
    "print(s[::-1])"
   ]
  },
  {
   "cell_type": "markdown",
   "metadata": {},
   "source": [
    "### 03) WAP to remove ith character from given string."
   ]
  },
  {
   "cell_type": "code",
   "execution_count": 15,
   "metadata": {},
   "outputs": [
    {
     "name": "stdin",
     "output_type": "stream",
     "text": [
      "enter the string khushi\n",
      "ith character u\n"
     ]
    },
    {
     "name": "stdout",
     "output_type": "stream",
     "text": [
      "khshi\n"
     ]
    }
   ],
   "source": [
    "s=input(\"enter the string\")\n",
    "i=input(\"ith character\")\n",
    "index=s.index(i)\n",
    "print(s[0:index]+s[index+1::])\n"
   ]
  },
  {
   "cell_type": "markdown",
   "metadata": {},
   "source": [
    "### 04) WAP to find length of string without using len function."
   ]
  },
  {
   "cell_type": "code",
   "execution_count": 17,
   "metadata": {},
   "outputs": [
    {
     "name": "stdin",
     "output_type": "stream",
     "text": [
      "enter the string khushi\n"
     ]
    },
    {
     "name": "stdout",
     "output_type": "stream",
     "text": [
      "6\n"
     ]
    }
   ],
   "source": [
    "s=input(\"enter the string\")\n",
    "count=0;\n",
    "for i in s:\n",
    "    count=count+1;\n",
    "print(count)"
   ]
  },
  {
   "cell_type": "markdown",
   "metadata": {},
   "source": [
    "### 05) WAP to print even length word in string."
   ]
  },
  {
   "cell_type": "code",
   "execution_count": 31,
   "metadata": {},
   "outputs": [
    {
     "name": "stdin",
     "output_type": "stream",
     "text": [
      "enter the string khushi patel \n"
     ]
    },
    {
     "name": "stdout",
     "output_type": "stream",
     "text": [
      "khushi\n",
      "\n"
     ]
    }
   ],
   "source": [
    "s=input(\"enter the string\")\n",
    "r=s.split(\" \")\n",
    "for i in r:\n",
    "    if((len(i))%2==0):\n",
    "        print(i)\n"
   ]
  },
  {
   "cell_type": "markdown",
   "metadata": {},
   "source": [
    "### 06) WAP to count numbers of vowels in given string."
   ]
  },
  {
   "cell_type": "code",
   "execution_count": 32,
   "metadata": {},
   "outputs": [
    {
     "name": "stdin",
     "output_type": "stream",
     "text": [
      "enter the string Khushi Patel \n"
     ]
    },
    {
     "name": "stdout",
     "output_type": "stream",
     "text": [
      "4\n"
     ]
    }
   ],
   "source": [
    "s=input(\"enter the string\")\n",
    "s=s.lower();\n",
    "count=0;\n",
    "for i in s:\n",
    "    if(i=='a' or i=='e' or i=='i' or i=='u'or i=='o'):\n",
    "        count=count+1\n",
    "print(count)"
   ]
  },
  {
   "cell_type": "markdown",
   "metadata": {},
   "source": [
    "### 07) WAP to capitalize the first and last character of each word in a string."
   ]
  },
  {
   "cell_type": "code",
   "execution_count": 72,
   "metadata": {},
   "outputs": [
    {
     "name": "stdin",
     "output_type": "stream",
     "text": [
      "enter the string khushi patel\n"
     ]
    },
    {
     "name": "stdout",
     "output_type": "stream",
     "text": [
      "KhushI PateL "
     ]
    }
   ],
   "source": [
    "s=input(\"enter the string\");\n",
    "s=s.split(\" \")\n",
    "for i in s:\n",
    "    q=i[0].upper();\n",
    "    q+=i[1:len(i)-1]\n",
    "    q+=i[len(i)-1:len(i)].upper()\n",
    "    print(q,end=\" \")\n",
    "    \n"
   ]
  },
  {
   "cell_type": "markdown",
   "metadata": {},
   "source": [
    "### 08) WAP to convert given array to string."
   ]
  },
  {
   "cell_type": "code",
   "execution_count": 31,
   "metadata": {},
   "outputs": [
    {
     "name": "stdout",
     "output_type": "stream",
     "text": [
      "hello\n"
     ]
    }
   ],
   "source": [
    "a=['h','e','l','l','o']\n",
    "b=\"\";\n",
    "type(a[2])\n",
    "for i in a :\n",
    "    # print(i)\n",
    "    b+=i\n",
    "print(b)"
   ]
  },
  {
   "cell_type": "markdown",
   "metadata": {},
   "source": [
    "### 09) Check if the password and confirm password is same or not. \n",
    "### In case of only case's mistake, show the error message."
   ]
  },
  {
   "cell_type": "code",
   "execution_count": 48,
   "metadata": {},
   "outputs": [
    {
     "name": "stdin",
     "output_type": "stream",
     "text": [
      "enter password Khushi\n",
      "enter confirm password KHUSHI\n"
     ]
    },
    {
     "name": "stdout",
     "output_type": "stream",
     "text": [
      "cases are not same\n"
     ]
    }
   ],
   "source": [
    "p=input(\"enter password\")\n",
    "cp=input(\"enter confirm password\")\n",
    "# a=p.lower()\n",
    "# b=cp.lower()\n",
    "# count=0\n",
    "# d=False;\n",
    "# if(a==b):\n",
    "#     for i in p:\n",
    "#         if(i==cp[count]):\n",
    "#             d=True;\n",
    "#             pass;\n",
    "#         elif(i==cp[count].upper() or i.upper()==cp[count] or i==cp[count].lower() or i.lower()==cp[count]):\n",
    "#             d=False;\n",
    "#             break;\n",
    "#         else:\n",
    "#             pass\n",
    "#         count=count+1;\n",
    "#     if(d==True):\n",
    "#         print(\"password is correct\")\n",
    "#     else:\n",
    "#         print(\"error\")\n",
    "# else:\n",
    "#     print(\"invalid passwrod\")\n",
    "\n",
    "\n",
    "# 2nd way\n",
    "if(p==cp):\n",
    "    print(\"same\")\n",
    "elif(p.lower()==cp or cp.lower()==p or cp.lower()==p.lower()):\n",
    "    print(\"cases are not same\")\n",
    "else:\n",
    "    print(\"not same \")\n",
    "    "
   ]
  },
  {
   "cell_type": "markdown",
   "metadata": {},
   "source": [
    "### 10) : Display credit card number. \n",
    "### card no. : 1234 5678 9012 3456\n",
    "### display as  : **** **** **** 3456"
   ]
  },
  {
   "cell_type": "code",
   "execution_count": 21,
   "metadata": {},
   "outputs": [
    {
     "name": "stdout",
     "output_type": "stream",
     "text": [
      "**** **** **** 3456\n"
     ]
    }
   ],
   "source": [
    "card=\"1234 5678 9012 3456\"\n",
    "s=card[:len(card)-4]\n",
    "i=0;\n",
    "while(i!=15):\n",
    "     if(s[i].isdigit()):\n",
    "        s=s.replace(s[i],'*')\n",
    "     else:\n",
    "         pass\n",
    "     i=i+1 \n",
    "s+=card[15:]\n",
    "print(s)"
   ]
  },
  {
   "cell_type": "markdown",
   "metadata": {},
   "source": [
    "## 11) : Checking if the two strings are Anagram or not.\n",
    "### s1 = decimal and s2 = medical are Anagram"
   ]
  },
  {
   "cell_type": "code",
   "execution_count": 61,
   "metadata": {},
   "outputs": [
    {
     "name": "stdout",
     "output_type": "stream",
     "text": [
      "not anagram\n"
     ]
    }
   ],
   "source": [
    "s1 = \"decimal\"\n",
    "s2 = \"imimimi\"\n",
    "s=False\n",
    "if(len(s1)==len(s2)):\n",
    "    for i in s1:\n",
    "        if i in s2:\n",
    "            s=True;\n",
    "        else:\n",
    "            s=False\n",
    "\n",
    "if(s==True):\n",
    "    print(\"anagram\")\n",
    "else:\n",
    "    print(\"not anagram\")"
   ]
  },
  {
   "cell_type": "markdown",
   "metadata": {},
   "source": [
    "### 12) : Rearrange the given string. First lowercase then uppercase alphabets.\n",
    "### input : EHlsarwiwhtwMV\n",
    "### output : lsarwiwhtwEHMV"
   ]
  },
  {
   "cell_type": "code",
   "execution_count": 95,
   "metadata": {},
   "outputs": [
    {
     "name": "stdout",
     "output_type": "stream",
     "text": [
      "lsarwiwhtwEHMV\n"
     ]
    }
   ],
   "source": [
    "a='EHlsarwiwhtwMV'\n",
    "up=\"\" \n",
    "lo=\"\"\n",
    "for i in a:\n",
    "    if(i.isupper()):\n",
    "        up+=i\n",
    "    else:\n",
    "        lo+=i\n",
    "string=lo+up\n",
    "print(string)"
   ]
  }
 ],
 "metadata": {
  "kernelspec": {
   "display_name": "Python 3 (ipykernel)",
   "language": "python",
   "name": "python3"
  },
  "language_info": {
   "codemirror_mode": {
    "name": "ipython",
    "version": 3
   },
   "file_extension": ".py",
   "mimetype": "text/x-python",
   "name": "python",
   "nbconvert_exporter": "python",
   "pygments_lexer": "ipython3",
   "version": "3.12.7"
  },
  "vscode": {
   "interpreter": {
    "hash": "31f2aee4e71d21fbe5cf8b01ff0e069b9275f58929596ceb00d14d90e3e16cd6"
   }
  }
 },
 "nbformat": 4,
 "nbformat_minor": 4
}
