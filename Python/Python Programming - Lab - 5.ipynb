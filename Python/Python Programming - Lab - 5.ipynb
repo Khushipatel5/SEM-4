{
 "cells": [
  {
   "cell_type": "markdown",
   "metadata": {},
   "source": [
    "\n",
    "<a href='https://www.darshan.ac.in/'> <img src='https://www.darshan.ac.in/Content/media/DU_Logo.svg' width=\"250\" height=\"300\"/></a>\n",
    "<pre>\n",
    "<center><b><h1>Python Programming - 2301CS404</b></center>\n",
    "<center><b><h1>23010101202 | khushi patel |27-12-24</h1> </b></center>\n",
    "<center><b><h1>Lab - 5</h1></b></center>    \n",
    "<pre>"
   ]
  },
  {
   "cell_type": "markdown",
   "metadata": {},
   "source": [
    "# List"
   ]
  },
  {
   "cell_type": "markdown",
   "metadata": {},
   "source": [
    "### 01) WAP to find sum of all the elements in a List."
   ]
  },
  {
   "cell_type": "code",
   "execution_count": 6,
   "metadata": {},
   "outputs": [
    {
     "name": "stdout",
     "output_type": "stream",
     "text": [
      "102\n"
     ]
    }
   ],
   "source": [
    "a=[1,2,3,96]\n",
    "sum=0\n",
    "for i in a :\n",
    "    sum=sum+i\n",
    "print(sum)"
   ]
  },
  {
   "cell_type": "markdown",
   "metadata": {},
   "source": [
    "### 02) WAP to find largest element in a List."
   ]
  },
  {
   "cell_type": "code",
   "execution_count": 7,
   "metadata": {},
   "outputs": [
    {
     "name": "stdout",
     "output_type": "stream",
     "text": [
      "96\n"
     ]
    }
   ],
   "source": [
    "a=[1,2,3,96]\n",
    "max=a[0]\n",
    "for i in a :\n",
    " if(i>max):\n",
    "     max=i\n",
    "print(max)"
   ]
  },
  {
   "cell_type": "markdown",
   "metadata": {},
   "source": [
    "### 03) WAP to find the length of a List."
   ]
  },
  {
   "cell_type": "code",
   "execution_count": 10,
   "metadata": {},
   "outputs": [
    {
     "name": "stdout",
     "output_type": "stream",
     "text": [
      "4\n"
     ]
    }
   ],
   "source": [
    "a=[1,2,3,96]\n",
    "sum=0\n",
    "for i in a :\n",
    "    sum=sum+1\n",
    "print(sum)"
   ]
  },
  {
   "cell_type": "markdown",
   "metadata": {},
   "source": [
    "### 04) WAP to interchange first and last elements in a list."
   ]
  },
  {
   "cell_type": "code",
   "execution_count": 15,
   "metadata": {},
   "outputs": [
    {
     "name": "stdout",
     "output_type": "stream",
     "text": [
      "[496, 2, 3, 5, 56, 25, 1]\n"
     ]
    }
   ],
   "source": [
    "a=[1,2,3,5,56,25,496]\n",
    "sum=0\n",
    "for i in a :\n",
    "    sum=sum+1\n",
    "temp=a[0]\n",
    "a[0]=a[sum-1]\n",
    "a[sum-1]=temp\n",
    "print(a)"
   ]
  },
  {
   "cell_type": "markdown",
   "metadata": {},
   "source": [
    "### 05) WAP to split the List into two parts and append the first part to the end."
   ]
  },
  {
   "cell_type": "code",
   "execution_count": 61,
   "metadata": {},
   "outputs": [
    {
     "name": "stdout",
     "output_type": "stream",
     "text": [
      "[9, 4, 6, 7, 0, 1, 2, 5, 2, 6, 2]\n"
     ]
    }
   ],
   "source": [
    "a=[1,2,5,2,6,2,8,9,4,6,7,0]\n",
    "mid=len(a)//2\n",
    "fp=a[0:mid:]\n",
    "lp=a[mid+1::]\n",
    "res=lp+fp\n",
    "print(res)"
   ]
  },
  {
   "cell_type": "markdown",
   "metadata": {},
   "source": [
    "### 06) WAP to interchange the elements on two positions entered by a user."
   ]
  },
  {
   "cell_type": "code",
   "execution_count": 6,
   "metadata": {},
   "outputs": [
    {
     "name": "stdin",
     "output_type": "stream",
     "text": [
      "enter b 1\n",
      "enter c 3\n"
     ]
    },
    {
     "name": "stdout",
     "output_type": "stream",
     "text": [
      "[1, 4, 3, 2, 5, 6, 7, 8, 9]\n"
     ]
    }
   ],
   "source": [
    "a=[1,2,3,4,5,6,7,8,9]\n",
    "b=int(input(\"enter b\"))\n",
    "c=int(input(\"enter c\"))\n",
    "temp=a[b]\n",
    "a[b]=a[c]\n",
    "a[c]=temp\n",
    "print(a)"
   ]
  },
  {
   "cell_type": "markdown",
   "metadata": {},
   "source": [
    "### 07) WAP to reverse the list entered by user."
   ]
  },
  {
   "cell_type": "code",
   "execution_count": 19,
   "metadata": {},
   "outputs": [
    {
     "name": "stdout",
     "output_type": "stream",
     "text": [
      "[0, 7, 6, 4, 9, 8, 2, 6, 2, 5, 2, 1]\n"
     ]
    }
   ],
   "source": [
    "a=[1,2,5,2,6,2,8,9,4,6,7,0]\n",
    "for i in range(0,(len(a)//2)):\n",
    "    temp=a[i]\n",
    "    a[i]=a[len(a)-i-1]\n",
    "    a[len(a)-i-1]=temp\n",
    "print(a)\n"
   ]
  },
  {
   "cell_type": "markdown",
   "metadata": {},
   "source": [
    "### 08) WAP to print even numbers in a list."
   ]
  },
  {
   "cell_type": "code",
   "execution_count": 4,
   "metadata": {},
   "outputs": [
    {
     "name": "stdout",
     "output_type": "stream",
     "text": [
      "[2, 2, 6, 2, 8, 4, 6, 0]\n"
     ]
    }
   ],
   "source": [
    "a=[1,2,5,2,6,2,8,9,4,6,7,0]\n",
    "b=[]\n",
    "for i in a:\n",
    "    if(i%2==0):\n",
    "        b.append(i)\n",
    "print(b)"
   ]
  },
  {
   "cell_type": "markdown",
   "metadata": {},
   "source": [
    "### 09) WAP to count unique items in a list."
   ]
  },
  {
   "cell_type": "code",
   "execution_count": 28,
   "metadata": {},
   "outputs": [
    {
     "name": "stdout",
     "output_type": "stream",
     "text": [
      "total 7\n"
     ]
    }
   ],
   "source": [
    "a=[1,2,5,2,6,2,8,9,4,6,7,0]\n",
    "count=0;\n",
    "for i in a:\n",
    "    if(i in a and (a.count(i))==1):\n",
    "        # print(i)\n",
    "        count=count+1;\n",
    "print('total',count)"
   ]
  },
  {
   "cell_type": "markdown",
   "metadata": {},
   "source": [
    "### 10) WAP to copy a list."
   ]
  },
  {
   "cell_type": "code",
   "execution_count": 15,
   "metadata": {},
   "outputs": [
    {
     "name": "stdout",
     "output_type": "stream",
     "text": [
      "[1, 2, 5, 2, 6, 2, 8, 9, 4, 6, 7, 0]\n"
     ]
    }
   ],
   "source": [
    "a=[1,2,5,2,6,2,8,9,4,6,7,0]\n",
    "b=a.copy()\n",
    "print(b)"
   ]
  },
  {
   "cell_type": "markdown",
   "metadata": {},
   "source": [
    "### 11) WAP to print all odd numbers in a given range."
   ]
  },
  {
   "cell_type": "code",
   "execution_count": 52,
   "metadata": {},
   "outputs": [
    {
     "name": "stdout",
     "output_type": "stream",
     "text": [
      "1\n",
      "5\n",
      "9\n",
      "3\n",
      "45\n",
      "9\n",
      "7\n"
     ]
    }
   ],
   "source": [
    "a=[1,2,5,2,6,2,8,9,4,3,45,9,6,7,0]\n",
    "for i in a:\n",
    "    if(i%2!=0):\n",
    "        print(i)"
   ]
  },
  {
   "cell_type": "markdown",
   "metadata": {},
   "source": [
    "### 12) WAP to count occurrences of an element in a list."
   ]
  },
  {
   "cell_type": "code",
   "execution_count": 83,
   "metadata": {},
   "outputs": [
    {
     "name": "stdin",
     "output_type": "stream",
     "text": [
      "enter element 2\n"
     ]
    },
    {
     "name": "stdout",
     "output_type": "stream",
     "text": [
      "5\n"
     ]
    }
   ],
   "source": [
    "a=[1,5,6,5,2,3,6,1,4,5,6,8,2,1,9,7,5,2,6,4,1,5,2,3,6,2,5,4,]\n",
    "ele=int(input(\"enter element\"))\n",
    "for i in a:\n",
    "    freq=a.count(ele)\n",
    "print(freq)"
   ]
  },
  {
   "cell_type": "markdown",
   "metadata": {},
   "source": [
    "### 13) WAP to find second largest number in a list."
   ]
  },
  {
   "cell_type": "code",
   "execution_count": 49,
   "metadata": {},
   "outputs": [
    {
     "name": "stdout",
     "output_type": "stream",
     "text": [
      "14\n"
     ]
    }
   ],
   "source": [
    "a=[1,2,5,2,6,2,8,9,4,6,85,14,7,0]\n",
    "max_value=0\n",
    "secmax=0\n",
    "for i in a:\n",
    "    if i > max_value:\n",
    "        secmax = max_value \n",
    "        max_value = i  \n",
    "    elif i > secmax and i != max_value:\n",
    "        secmax = i \n",
    "\n",
    "print(secmax)"
   ]
  },
  {
   "cell_type": "markdown",
   "metadata": {},
   "source": [
    "### 14) WAP to extract elements with frequency greater than K."
   ]
  },
  {
   "cell_type": "code",
   "execution_count": 80,
   "metadata": {},
   "outputs": [
    {
     "name": "stdin",
     "output_type": "stream",
     "text": [
      "enter k 2\n"
     ]
    },
    {
     "name": "stdout",
     "output_type": "stream",
     "text": [
      "[4, 6, 5, 3]\n"
     ]
    }
   ],
   "source": [
    "a=[1,5,6,5,2,3,6,1,4,5,6,8,2,1,9,7,5,2,6,4,1,5,2,3,6,2,5,4,]\n",
    "k=int(input(\"enter k\"))\n",
    "res=[]\n",
    "for i in a:\n",
    "    freq=a.count(i)\n",
    "    if(freq>k and freq not in res):\n",
    "        res.append(freq)\n",
    "print(res)\n",
    "    "
   ]
  },
  {
   "cell_type": "markdown",
   "metadata": {},
   "source": [
    "### 15) WAP to create a list of squared numbers from 0 to 9 with and without using List Comprehension."
   ]
  },
  {
   "cell_type": "code",
   "execution_count": 65,
   "metadata": {},
   "outputs": [
    {
     "name": "stdout",
     "output_type": "stream",
     "text": [
      "[0, 1, 4, 9, 16, 25, 36, 49, 64, 81]\n"
     ]
    }
   ],
   "source": [
    "l1=[i**2 for i in range(0,10)]\n",
    "print(l1)"
   ]
  },
  {
   "cell_type": "markdown",
   "metadata": {},
   "source": [
    "### 16) WAP to create a new list (fruit whose name starts with 'b') from the list of fruits given by user."
   ]
  },
  {
   "cell_type": "code",
   "execution_count": 71,
   "metadata": {},
   "outputs": [
    {
     "name": "stdout",
     "output_type": "stream",
     "text": [
      "['banana', 'blueberry', 'blackberry']\n"
     ]
    }
   ],
   "source": [
    "a=[\"banana\", \"cherry\", \"date\", \"blueberry\", \"apple\",\"blackberry\",]\n",
    "b=[]\n",
    "for i in a:\n",
    "    # print(i)\n",
    "    if(i.startswith('b')):\n",
    "       b.append(i)\n",
    "print(b)"
   ]
  },
  {
   "cell_type": "markdown",
   "metadata": {},
   "source": [
    "### 17) WAP to create a list of common elements from given two lists."
   ]
  },
  {
   "cell_type": "code",
   "execution_count": 74,
   "metadata": {},
   "outputs": [
    {
     "name": "stdout",
     "output_type": "stream",
     "text": [
      "[2, 4, 5, 6, 7]\n"
     ]
    }
   ],
   "source": [
    "a=[1,2,3,4,5,6,7,8,9]\n",
    "b=[2,4,5,6,7,15,56]\n",
    "c=[]\n",
    "for i in range(len(a)):\n",
    "    if(a[i] in b):\n",
    "        c.append(a[i])\n",
    "print(c)"
   ]
  }
 ],
 "metadata": {
  "kernelspec": {
   "display_name": "Python 3 (ipykernel)",
   "language": "python",
   "name": "python3"
  },
  "language_info": {
   "codemirror_mode": {
    "name": "ipython",
    "version": 3
   },
   "file_extension": ".py",
   "mimetype": "text/x-python",
   "name": "python",
   "nbconvert_exporter": "python",
   "pygments_lexer": "ipython3",
   "version": "3.12.7"
  }
 },
 "nbformat": 4,
 "nbformat_minor": 4
}
